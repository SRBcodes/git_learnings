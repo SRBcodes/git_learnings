{
 "cells": [
  {
   "cell_type": "markdown",
   "metadata": {},
   "source": [
    "# Assignment4: Sentiment Analysis"
   ]
  },
  {
   "cell_type": "markdown",
   "metadata": {},
   "source": [
    "Use the UCI Sentiment Labelled Sentences Data Set in this assignment:  https://archive.ics.uci.edu/ml/datasets/Sentiment+Labelled+Sentences.\n",
    "Create a sentiment analyzer using the TfidfVectorizer representation of the amazon reviews from the UCI Sentiment Labelled Sentences Data Set. Use the TfidfVectorizer function in Sklearn and train both a logistic regression model."
   ]
  },
  {
   "cell_type": "markdown",
   "metadata": {},
   "source": [
    "Load the dataset and select the amazon reviews"
   ]
  },
  {
   "cell_type": "code",
   "execution_count": 1,
   "metadata": {},
   "outputs": [
    {
     "name": "stdout",
     "output_type": "stream",
     "text": [
      "<class 'pandas.core.frame.DataFrame'>\n",
      "RangeIndex: 2000 entries, 0 to 1999\n",
      "Data columns (total 2 columns):\n",
      "label    2000 non-null int64\n",
      "text     2000 non-null object\n",
      "dtypes: int64(1), object(1)\n",
      "memory usage: 31.3+ KB\n"
     ]
    },
    {
     "data": {
      "text/html": [
       "<div>\n",
       "<style>\n",
       "    .dataframe thead tr:only-child th {\n",
       "        text-align: right;\n",
       "    }\n",
       "\n",
       "    .dataframe thead th {\n",
       "        text-align: left;\n",
       "    }\n",
       "\n",
       "    .dataframe tbody tr th {\n",
       "        vertical-align: top;\n",
       "    }\n",
       "</style>\n",
       "<table border=\"1\" class=\"dataframe\">\n",
       "  <thead>\n",
       "    <tr style=\"text-align: right;\">\n",
       "      <th></th>\n",
       "      <th>label</th>\n",
       "      <th>text</th>\n",
       "      <th>source</th>\n",
       "    </tr>\n",
       "  </thead>\n",
       "  <tbody>\n",
       "    <tr>\n",
       "      <th>0</th>\n",
       "      <td>0</td>\n",
       "      <td>So there is no way for me to plug it in here i...</td>\n",
       "      <td>amazon</td>\n",
       "    </tr>\n",
       "    <tr>\n",
       "      <th>1</th>\n",
       "      <td>1</td>\n",
       "      <td>Good case, Excellent value.</td>\n",
       "      <td>amazon</td>\n",
       "    </tr>\n",
       "    <tr>\n",
       "      <th>2</th>\n",
       "      <td>1</td>\n",
       "      <td>Great for the jawbone.</td>\n",
       "      <td>amazon</td>\n",
       "    </tr>\n",
       "    <tr>\n",
       "      <th>3</th>\n",
       "      <td>0</td>\n",
       "      <td>Tied to charger for conversations lasting more...</td>\n",
       "      <td>amazon</td>\n",
       "    </tr>\n",
       "    <tr>\n",
       "      <th>4</th>\n",
       "      <td>1</td>\n",
       "      <td>The mic is great.</td>\n",
       "      <td>amazon</td>\n",
       "    </tr>\n",
       "  </tbody>\n",
       "</table>\n",
       "</div>"
      ],
      "text/plain": [
       "  label                                               text  source\n",
       "0     0  So there is no way for me to plug it in here i...  amazon\n",
       "1     1                        Good case, Excellent value.  amazon\n",
       "2     1                             Great for the jawbone.  amazon\n",
       "3     0  Tied to charger for conversations lasting more...  amazon\n",
       "4     1                                  The mic is great.  amazon"
      ]
     },
     "metadata": {},
     "output_type": "display_data"
    },
    {
     "data": {
      "text/plain": [
       "(1000, 3)"
      ]
     },
     "metadata": {},
     "output_type": "display_data"
    }
   ],
   "source": [
    "import pandas as pd\n",
    "import numpy as np\n",
    "import sys\n",
    "\n",
    "directory = sys.path[0]\n",
    "# amazon\n",
    "amazon = open('amazon_cells_labelled.txt').read()\n",
    "\n",
    "\n",
    "a_labels, a_texts = [], []\n",
    "for i, line in enumerate(amazon.split('\\n')):\n",
    "    content = line.split('\\t')\n",
    "    if len(content) > 1:\n",
    "        a_texts.append(content[0])\n",
    "        a_labels.append(content[1])\n",
    "\n",
    "df_a = pd.DataFrame()\n",
    "df_a['label'] = a_labels\n",
    "df_a['text'] = a_texts\n",
    "df_a['source'] = 'amazon'\n",
    "\n",
    "for i, line in enumerate(amazon.split('\\n')):\n",
    "    content = line.split('\\t')\n",
    "    if len(content) > 1:\n",
    "        a_texts.append(content[0])\n",
    "        a_labels.append(content[1])\n",
    "        \n",
    "df = pd.DataFrame()\n",
    "df['label'] = a_labels\n",
    "df['text'] = a_texts\n",
    "\n",
    "df.label = df.label.astype(int)\n",
    "df.info()\n",
    "\n",
    "display(df_a.head())\n",
    "display(df_a.shape)"
   ]
  },
  {
   "cell_type": "markdown",
   "metadata": {},
   "source": [
    "preprocess the data (tokenize, stop word removal, lemmatization)"
   ]
  },
  {
   "cell_type": "code",
   "execution_count": 3,
   "metadata": {},
   "outputs": [
    {
     "data": {
      "text/plain": [
       "TfidfVectorizer(analyzer='word', binary=False, decode_error='strict',\n",
       "        dtype=<class 'numpy.int64'>, encoding='utf-8', input='content',\n",
       "        lowercase=True, max_df=1.0, max_features=None, min_df=1,\n",
       "        ngram_range=(1, 1), norm='l2', preprocessor=None, smooth_idf=False,\n",
       "        stop_words=None, strip_accents=None, sublinear_tf=False,\n",
       "        token_pattern='(?u)\\\\b\\\\w\\\\w+\\\\b', tokenizer=None, use_idf=True,\n",
       "        vocabulary=None)"
      ]
     },
     "execution_count": 3,
     "metadata": {},
     "output_type": "execute_result"
    }
   ],
   "source": [
    "import nltk\n",
    "#nltk.download('punkt')\n",
    "#nltk.download('stopwords')\n",
    "#nltk.download('wordnet')\n",
    "#nltk.download('omw-1.4')\n",
    "from nltk.tokenize import word_tokenize\n",
    "import string\n",
    "from nltk.stem import WordNetLemmatizer\n",
    "from nltk.corpus import stopwords\n",
    "\n",
    "df_a['text'] = df_a['text'].str.lower()\n",
    "df_a['tokens'] = df_a['text'].apply(lambda x : word_tokenize(x))\n",
    "df_a['tokens'] = df_a['tokens'].apply(lambda x : [word for word in x if word.isalnum()]) \n",
    "stop_words = set(stopwords.words('english')+ list(string.punctuation))\n",
    "df_a['tokens'] = df_a['tokens'].apply(lambda x : [w for w in x if not w in stop_words])\n",
    "wordnet_lemmatizer = WordNetLemmatizer()\n",
    "df_a['tokens'] = df_a['tokens'].apply(lambda x : [wordnet_lemmatizer.lemmatize(w) for w in x ])\n",
    "df_a['Cleaned_Sentence'] = df_a['tokens'].apply(lambda x : ' '.join(x))\n",
    "\n",
    "from sklearn.feature_extraction.text import TfidfVectorizer\n",
    "\n",
    "tfidf_vectorizer = TfidfVectorizer(use_idf=True,  smooth_idf=False,ngram_range=(1,1))\n",
    "tfidf_vectorizer.fit(df_a.Cleaned_Sentence)"
   ]
  },
  {
   "cell_type": "markdown",
   "metadata": {},
   "source": [
    "split the data to 20\\% test and 80\\%train and train a logistic regression model to claissfy the sentiment and convert to tfidf vectors"
   ]
  },
  {
   "cell_type": "code",
   "execution_count": 40,
   "metadata": {},
   "outputs": [
    {
     "name": "stdout",
     "output_type": "stream",
     "text": [
      "0.74\n"
     ]
    }
   ],
   "source": [
    "from sklearn import model_selection\n",
    "from sklearn import preprocessing\n",
    "x_train, x_test, y_train, y_test = model_selection.train_test_split(df_a.Cleaned_Sentence, df_a.label,test_size=0.2) \n",
    " \n",
    "encoder = preprocessing.LabelEncoder()\n",
    "y_train = encoder.fit_transform(y_train)\n",
    "y_test = encoder.fit_transform(y_test)\n",
    "x_train_tfidf = tfidf_vectorizer.transform(x_train)\n",
    "x_test_tfidf = tfidf_vectorizer.transform(x_test)\n",
    "\n",
    "from sklearn import linear_model\n",
    "from sklearn import metrics\n",
    "\n",
    "model=linear_model.LogisticRegression()\n",
    "model.fit(x_train_tfidf, y_train)\n",
    "predictions = model.predict(x_test_tfidf)\n",
    "print(metrics.accuracy_score(predictions, y_test))\n"
   ]
  },
  {
   "cell_type": "markdown",
   "metadata": {},
   "source": [
    "What are some example of sentiments claissified wrongly?"
   ]
  },
  {
   "cell_type": "markdown",
   "metadata": {},
   "source": [
    "Below are some of the instances where sentiments can be wrongly classified : classified as 0 when it fits into 1 and vice versa."
   ]
  },
  {
   "cell_type": "code",
   "execution_count": 50,
   "metadata": {},
   "outputs": [
    {
     "name": "stdout",
     "output_type": "stream",
     "text": [
      "\" protects phone side \" is classified as: 0 but should be classified as: 1\n",
      "\" say plantronics 510 maintains flawless connection cell static normal use \" is classified as: 0 but should be classified as: 1\n",
      "\" total package \" is classified as: 0 but should be classified as: 1\n",
      "\" usually like headband one lightweight mess hair \" is classified as: 0 but should be classified as: 1\n",
      "\" got small adorable \" is classified as: 0 but should be classified as: 1\n",
      "\" product exactly described \" is classified as: 0 but should be classified as: 1\n"
     ]
    }
   ],
   "source": [
    "#test data\n",
    "count = 0\n",
    "for input, prediction, label in zip(x_test, predictions, y_test):\n",
    "    if prediction != label:\n",
    "        print('\"', input,'\"', 'is classified as:', prediction, 'but should be classified as:', label)\n",
    "        count= count +1\n",
    "    if count>5:\n",
    "        break;\n",
    "    "
   ]
  },
  {
   "cell_type": "code",
   "execution_count": 52,
   "metadata": {},
   "outputs": [
    {
     "name": "stdout",
     "output_type": "stream",
     "text": [
      "\" aggravating \" is classified as: 1 but should be classified as: 0\n",
      "\" wear everyday hold well \" is classified as: 0 but should be classified as: 1\n",
      "\" battery last hour \" is classified as: 1 but should be classified as: 0\n",
      "\" also problem phone reading memory card always turn \" is classified as: 1 but should be classified as: 0\n",
      "\" good value work fine power via usb car wall outlet \" is classified as: 0 but should be classified as: 1\n",
      "\" purchased family friend enjoy clarity ease use \" is classified as: 0 but should be classified as: 1\n"
     ]
    }
   ],
   "source": [
    "#train data\n",
    "count = 0\n",
    "for input, prediction, label in zip(x_train, predictions, y_train):\n",
    "    if prediction != label:\n",
    "        print('\"', input,'\"', 'is classified as:', prediction, 'but should be classified as:', label)\n",
    "        count= count +1\n",
    "    if count>5:\n",
    "        break;"
   ]
  },
  {
   "cell_type": "code",
   "execution_count": null,
   "metadata": {
    "collapsed": true
   },
   "outputs": [],
   "source": []
  }
 ],
 "metadata": {
  "kernelspec": {
   "display_name": "Python 3",
   "language": "python",
   "name": "python3"
  },
  "language_info": {
   "codemirror_mode": {
    "name": "ipython",
    "version": 3
   },
   "file_extension": ".py",
   "mimetype": "text/x-python",
   "name": "python",
   "nbconvert_exporter": "python",
   "pygments_lexer": "ipython3",
   "version": "3.6.10"
  }
 },
 "nbformat": 4,
 "nbformat_minor": 2
}
